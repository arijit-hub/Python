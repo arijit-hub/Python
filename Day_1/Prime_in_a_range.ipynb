{
 "cells": [
  {
   "cell_type": "code",
   "execution_count": 8,
   "metadata": {},
   "outputs": [
    {
     "name": "stdout",
     "output_type": "stream",
     "text": [
      "Enter the range : 20\n",
      "2\n",
      "3\n",
      "5\n",
      "7\n",
      "11\n",
      "13\n",
      "17\n",
      "19\n"
     ]
    }
   ],
   "source": [
    "def prime_in_range(value_range):\n",
    "    \n",
    "    for i in range(value_range):\n",
    "        count = 0\n",
    "        for j in range(1 , i + 1):\n",
    "            if(i % j == 0):\n",
    "                count = count + 1\n",
    "        if(count == 2 ):\n",
    "            print(i)\n",
    "\n",
    "value_range = int(input('Enter the range : '))\n",
    "prime_in_range(value_range)"
   ]
  }
 ],
 "metadata": {
  "kernelspec": {
   "display_name": "Python 3",
   "language": "python",
   "name": "python3"
  },
  "language_info": {
   "codemirror_mode": {
    "name": "ipython",
    "version": 3
   },
   "file_extension": ".py",
   "mimetype": "text/x-python",
   "name": "python",
   "nbconvert_exporter": "python",
   "pygments_lexer": "ipython3",
   "version": "3.7.4"
  }
 },
 "nbformat": 4,
 "nbformat_minor": 2
}
