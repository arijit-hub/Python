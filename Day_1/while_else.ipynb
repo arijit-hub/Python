{
 "cells": [
  {
   "cell_type": "code",
   "execution_count": 1,
   "metadata": {},
   "outputs": [
    {
     "name": "stdout",
     "output_type": "stream",
     "text": [
      "In the while loop\n",
      "In the while loop\n",
      "In the while loop\n",
      "In the else statement\n"
     ]
    }
   ],
   "source": [
    "def while_else(count):\n",
    "    while (count > 5):\n",
    "        print('In the while loop')\n",
    "        count = count - 1\n",
    "    else:\n",
    "        print('In the else statement')\n",
    "\n",
    "while_else(8)"
   ]
  }
 ],
 "metadata": {
  "kernelspec": {
   "display_name": "Python 3",
   "language": "python",
   "name": "python3"
  },
  "language_info": {
   "codemirror_mode": {
    "name": "ipython",
    "version": 3
   },
   "file_extension": ".py",
   "mimetype": "text/x-python",
   "name": "python",
   "nbconvert_exporter": "python",
   "pygments_lexer": "ipython3",
   "version": "3.7.4"
  }
 },
 "nbformat": 4,
 "nbformat_minor": 2
}
