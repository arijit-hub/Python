{
 "cells": [
  {
   "cell_type": "code",
   "execution_count": 3,
   "metadata": {},
   "outputs": [
    {
     "name": "stdout",
     "output_type": "stream",
     "text": [
      "Enter first number10\n",
      "Enter second number20\n",
      "---Before swap---\n",
      "a =  10 b =  20\n",
      "\n",
      "---Before swap---\n",
      "a =  20 b =  10\n"
     ]
    }
   ],
   "source": [
    "def swap_num(a , b):\n",
    "    \n",
    "    print('---Before swap---\\na = ' , a , 'b = ' , b)\n",
    "    \n",
    "    h = a\n",
    "    a = b\n",
    "    b = h\n",
    "    \n",
    "    print('\\n---Before swap---\\na = ' , a , 'b = ' , b)\n",
    "\n",
    "a = int(input('Enter first number'))\n",
    "b = int(input('Enter second number'))\n",
    "\n",
    "swap_num(a , b)"
   ]
  }
 ],
 "metadata": {
  "kernelspec": {
   "display_name": "Python 3",
   "language": "python",
   "name": "python3"
  },
  "language_info": {
   "codemirror_mode": {
    "name": "ipython",
    "version": 3
   },
   "file_extension": ".py",
   "mimetype": "text/x-python",
   "name": "python",
   "nbconvert_exporter": "python",
   "pygments_lexer": "ipython3",
   "version": "3.7.4"
  }
 },
 "nbformat": 4,
 "nbformat_minor": 2
}
