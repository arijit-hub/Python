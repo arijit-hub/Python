{
 "cells": [
  {
   "cell_type": "code",
   "execution_count": 3,
   "metadata": {},
   "outputs": [
    {
     "name": "stdout",
     "output_type": "stream",
     "text": [
      "Enter the first number : 2\n",
      "Enter the second number : 55\n",
      "Enter the third number : 3\n"
     ]
    },
    {
     "data": {
      "text/plain": [
       "55"
      ]
     },
     "execution_count": 3,
     "metadata": {},
     "output_type": "execute_result"
    }
   ],
   "source": [
    "def largest_among_three(x , y , z):\n",
    "    \n",
    "    largest = x\n",
    "    \n",
    "    if((y > x) and (y > z)):\n",
    "        largest = y\n",
    "    elif((z > x) and (z > y)):\n",
    "        largest = z\n",
    "    \n",
    "    return largest\n",
    "\n",
    "x = int(input('Enter the first number : '))\n",
    "y = int(input('Enter the second number : '))\n",
    "z = int(input('Enter the third number : '))\n",
    "\n",
    "largest_among_three(x , y , z)"
   ]
  }
 ],
 "metadata": {
  "kernelspec": {
   "display_name": "Python 3",
   "language": "python",
   "name": "python3"
  },
  "language_info": {
   "codemirror_mode": {
    "name": "ipython",
    "version": 3
   },
   "file_extension": ".py",
   "mimetype": "text/x-python",
   "name": "python",
   "nbconvert_exporter": "python",
   "pygments_lexer": "ipython3",
   "version": "3.7.4"
  }
 },
 "nbformat": 4,
 "nbformat_minor": 2
}
