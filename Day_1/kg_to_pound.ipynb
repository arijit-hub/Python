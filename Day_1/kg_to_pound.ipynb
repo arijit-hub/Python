{
 "cells": [
  {
   "cell_type": "code",
   "execution_count": 1,
   "metadata": {},
   "outputs": [
    {
     "name": "stdout",
     "output_type": "stream",
     "text": [
      "Enter the weight in kg10\n",
      "The equivalent weight in pund is 22.0462\n"
     ]
    }
   ],
   "source": [
    "def to_pound(kg):\n",
    "    \n",
    "    pound_coeff = 2.20462\n",
    "    pound = kg * pound_coeff\n",
    "    \n",
    "    return pound\n",
    "\n",
    "kg = float(input('Enter the weight in kg'))\n",
    "pound = to_pound(kg)\n",
    "print('The equivalent weight in pund is' , pound)"
   ]
  }
 ],
 "metadata": {
  "kernelspec": {
   "display_name": "Python 3",
   "language": "python",
   "name": "python3"
  },
  "language_info": {
   "codemirror_mode": {
    "name": "ipython",
    "version": 3
   },
   "file_extension": ".py",
   "mimetype": "text/x-python",
   "name": "python",
   "nbconvert_exporter": "python",
   "pygments_lexer": "ipython3",
   "version": "3.7.4"
  }
 },
 "nbformat": 4,
 "nbformat_minor": 2
}
