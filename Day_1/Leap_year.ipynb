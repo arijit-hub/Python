{
 "cells": [
  {
   "cell_type": "code",
   "execution_count": 2,
   "metadata": {},
   "outputs": [
    {
     "name": "stdout",
     "output_type": "stream",
     "text": [
      "Enter the year you want to check for : 1900\n",
      "1900 is not leap!\n"
     ]
    }
   ],
   "source": [
    "def leap_year(year):\n",
    "    \n",
    "    if((year % 100 != 0) and (year % 4 == 0)):\n",
    "        print(year, 'is leap!')\n",
    "    elif((year % 400 == 0)):\n",
    "        print(year , 'is leap!')\n",
    "    else:\n",
    "        print(year , 'is not leap!')\n",
    "\n",
    "year = int(input('Enter the year you want to check for : '))\n",
    "leap_year(year)"
   ]
  }
 ],
 "metadata": {
  "kernelspec": {
   "display_name": "Python 3",
   "language": "python",
   "name": "python3"
  },
  "language_info": {
   "codemirror_mode": {
    "name": "ipython",
    "version": 3
   },
   "file_extension": ".py",
   "mimetype": "text/x-python",
   "name": "python",
   "nbconvert_exporter": "python",
   "pygments_lexer": "ipython3",
   "version": "3.7.4"
  }
 },
 "nbformat": 4,
 "nbformat_minor": 2
}
