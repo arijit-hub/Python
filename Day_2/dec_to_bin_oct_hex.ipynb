{
 "cells": [
  {
   "cell_type": "code",
   "execution_count": 1,
   "metadata": {},
   "outputs": [],
   "source": [
    "def transfer_from_dec(val):\n",
    "    print('Binary Equivalent : ' , bin(val))\n",
    "    print('Octal Equivalent : ' , oct(val))\n",
    "    print('Hexadecimal Equivalent : ' , hex(val))"
   ]
  },
  {
   "cell_type": "code",
   "execution_count": 2,
   "metadata": {},
   "outputs": [
    {
     "name": "stdout",
     "output_type": "stream",
     "text": [
      "Binary Equivalent :  0b1011\n",
      "Octal Equivalent :  0o13\n",
      "Hexadecimal Equivalent :  0xb\n"
     ]
    }
   ],
   "source": [
    "transfer_from_dec(11)"
   ]
  }
 ],
 "metadata": {
  "kernelspec": {
   "display_name": "Python 3",
   "language": "python",
   "name": "python3"
  },
  "language_info": {
   "codemirror_mode": {
    "name": "ipython",
    "version": 3
   },
   "file_extension": ".py",
   "mimetype": "text/x-python",
   "name": "python",
   "nbconvert_exporter": "python",
   "pygments_lexer": "ipython3",
   "version": "3.7.4"
  }
 },
 "nbformat": 4,
 "nbformat_minor": 2
}
